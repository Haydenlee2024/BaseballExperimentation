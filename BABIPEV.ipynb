{
 "cells": [
  {
   "cell_type": "code",
   "execution_count": 3,
   "metadata": {},
   "outputs": [],
   "source": [
    "#Import necessary libraries\n",
    "import pandas as pd\n",
    "import numpy as np\n",
    "import matplotlib.pyplot as plt\n",
    "from sklearn.linear_model import LinearRegression"
   ]
  },
  {
   "cell_type": "markdown",
   "metadata": {},
   "source": [
    "# Raw Data"
   ]
  },
  {
   "cell_type": "code",
   "execution_count": 6,
   "metadata": {
    "scrolled": false
   },
   "outputs": [
    {
     "name": "stdout",
     "output_type": "stream",
     "text": [
      "             Name   Team  BABIP  GB/FB     LD%     GB%     FB% IFFB% HR/FB  \\\n",
      "0    Tommy Hunter    NYM    1.0    0.0  100.0%    0.0%    0.0%  0.0%  0.0%   \n",
      "1     Daniel Bard    COL    1.0    0.0  100.0%    0.0%    0.0%  0.0%  0.0%   \n",
      "2  Connor Overton  - - -    1.0    0.0    0.0%    0.0%  100.0%  0.0%  0.0%   \n",
      "3   Jose Quintana  - - -    1.0    1.0    0.0%  100.0%    0.0%  0.0%  0.0%   \n",
      "4       Josh Lowe    TBR    1.0    1.0    0.0%  100.0%    0.0%  0.0%  0.0%   \n",
      "\n",
      "   IFH  ... BUH  BUH%   Pull% Cent%   Oppo%   Soft%    Med%   Hard% AB  \\\n",
      "0    0  ...   0  0.0%  100.0%  0.0%    0.0%    0.0%    0.0%  100.0%  1   \n",
      "1    0  ...   0  0.0%  100.0%  0.0%    0.0%    0.0%    0.0%  100.0%  1   \n",
      "2    0  ...   0  0.0%    0.0%  0.0%  100.0%  100.0%    0.0%    0.0%  1   \n",
      "3    0  ...   0  0.0%    0.0%  0.0%  100.0%    0.0%  100.0%    0.0%  1   \n",
      "4    1  ...   0  0.0%    0.0%  0.0%  100.0%  100.0%    0.0%    0.0%  1   \n",
      "\n",
      "   playerid  \n",
      "0      1157  \n",
      "1      7115  \n",
      "2     18376  \n",
      "3     11423  \n",
      "4     19953  \n",
      "\n",
      "[5 rows x 21 columns]\n",
      "   last_name  first_name  player_id  attempts  avg_hit_angle  \\\n",
      "0     Zunino        Mike     572287       202           23.2   \n",
      "1  Tatis Jr.    Fernando     665487       329           13.8   \n",
      "2  Acuna Jr.      Ronald     660670       217           18.2   \n",
      "3     Ohtani      Shohei     660271       350           16.6   \n",
      "4     Dalbec       Bobby     666915       262           17.3   \n",
      "\n",
      "   anglesweetspotpercent  max_hit_speed  avg_hit_speed   fbld    gb  \\\n",
      "0                   31.7          117.3           90.7  100.0  81.4   \n",
      "1                   33.1          116.6           93.9   99.9  87.9   \n",
      "2                   39.6          117.9           93.8   97.9  88.4   \n",
      "3                   35.4          119.0           93.6  100.4  85.9   \n",
      "4                   36.3          115.6           92.4   97.0  86.6   \n",
      "\n",
      "   max_distance  avg_distance  avg_hr_distance  ev95plus  ev95per-swing  \\\n",
      "0           472           196              403        95           13.5   \n",
      "1           477           186              416       183           16.7   \n",
      "2           481           201              416       119           19.2   \n",
      "3           470           200              416       187           15.7   \n",
      "4           453           197              403       126           13.6   \n",
      "\n",
      "   ev95percent  barrels  brl_percent  brl_pa  \n",
      "0         47.0     49.0         24.3    13.1  \n",
      "1         55.6     70.0         21.3    12.8  \n",
      "2         54.8     44.0         20.3    12.2  \n",
      "3         53.4     78.0         22.3    12.2  \n",
      "4         48.1     53.0         20.2    11.7  \n"
     ]
    }
   ],
   "source": [
    "#Data from Fangraphs: https://www.fangraphs.com/leaders.aspx?pos=all&stats=bat&lg=all&qual=y&type=8&season=2021&month=0&season1=2021&ind=0&team=&rost=&age=&filter=&players=\n",
    "a = pd.read_csv('batter2021f.csv')\n",
    "#Data from Baseball Savant: https://baseballsavant.mlb.com/leaderboard/statcast?type=batter&year=2021&position=&team=&min=200\n",
    "#We are only going to consider batters with at least 200 ABs\n",
    "b = pd.read_csv('exit_velocity.csv')\n",
    "print(a.head())\n",
    "print(b.head())"
   ]
  },
  {
   "cell_type": "markdown",
   "metadata": {},
   "source": [
    "# Data Processing"
   ]
  },
  {
   "cell_type": "code",
   "execution_count": 7,
   "metadata": {},
   "outputs": [
    {
     "data": {
      "text/html": [
       "<div>\n",
       "<style scoped>\n",
       "    .dataframe tbody tr th:only-of-type {\n",
       "        vertical-align: middle;\n",
       "    }\n",
       "\n",
       "    .dataframe tbody tr th {\n",
       "        vertical-align: top;\n",
       "    }\n",
       "\n",
       "    .dataframe thead th {\n",
       "        text-align: right;\n",
       "    }\n",
       "</style>\n",
       "<table border=\"1\" class=\"dataframe\">\n",
       "  <thead>\n",
       "    <tr style=\"text-align: right;\">\n",
       "      <th></th>\n",
       "      <th>BABIP</th>\n",
       "      <th>avg_hit_speed</th>\n",
       "    </tr>\n",
       "    <tr>\n",
       "      <th>Name</th>\n",
       "      <th></th>\n",
       "      <th></th>\n",
       "    </tr>\n",
       "  </thead>\n",
       "  <tbody>\n",
       "    <tr>\n",
       "      <th>Bryce Harper</th>\n",
       "      <td>0.359</td>\n",
       "      <td>92.5</td>\n",
       "    </tr>\n",
       "    <tr>\n",
       "      <th>Juan Soto</th>\n",
       "      <td>0.332</td>\n",
       "      <td>93.0</td>\n",
       "    </tr>\n",
       "    <tr>\n",
       "      <th>Vladimir Guerrero Jr.</th>\n",
       "      <td>0.313</td>\n",
       "      <td>95.1</td>\n",
       "    </tr>\n",
       "    <tr>\n",
       "      <th>Ronald Acuna Jr.</th>\n",
       "      <td>0.311</td>\n",
       "      <td>93.8</td>\n",
       "    </tr>\n",
       "    <tr>\n",
       "      <th>Brandon Belt</th>\n",
       "      <td>0.309</td>\n",
       "      <td>89.2</td>\n",
       "    </tr>\n",
       "    <tr>\n",
       "      <th>...</th>\n",
       "      <td>...</td>\n",
       "      <td>...</td>\n",
       "    </tr>\n",
       "    <tr>\n",
       "      <th>Kevin Newman</th>\n",
       "      <td>0.236</td>\n",
       "      <td>85.3</td>\n",
       "    </tr>\n",
       "    <tr>\n",
       "      <th>Joe Panik</th>\n",
       "      <td>0.230</td>\n",
       "      <td>86.5</td>\n",
       "    </tr>\n",
       "    <tr>\n",
       "      <th>Cody Bellinger</th>\n",
       "      <td>0.196</td>\n",
       "      <td>89.3</td>\n",
       "    </tr>\n",
       "    <tr>\n",
       "      <th>Austin Hedges</th>\n",
       "      <td>0.214</td>\n",
       "      <td>85.7</td>\n",
       "    </tr>\n",
       "    <tr>\n",
       "      <th>Jackie Bradley Jr.</th>\n",
       "      <td>0.226</td>\n",
       "      <td>89.7</td>\n",
       "    </tr>\n",
       "  </tbody>\n",
       "</table>\n",
       "<p>261 rows × 2 columns</p>\n",
       "</div>"
      ],
      "text/plain": [
       "                       BABIP  avg_hit_speed\n",
       "Name                                       \n",
       "Bryce Harper           0.359           92.5\n",
       "Juan Soto              0.332           93.0\n",
       "Vladimir Guerrero Jr.  0.313           95.1\n",
       "Ronald Acuna Jr.       0.311           93.8\n",
       "Brandon Belt           0.309           89.2\n",
       "...                      ...            ...\n",
       "Kevin Newman           0.236           85.3\n",
       "Joe Panik              0.230           86.5\n",
       "Cody Bellinger         0.196           89.3\n",
       "Austin Hedges          0.214           85.7\n",
       "Jackie Bradley Jr.     0.226           89.7\n",
       "\n",
       "[261 rows x 2 columns]"
      ]
     },
     "execution_count": 7,
     "metadata": {},
     "output_type": "execute_result"
    }
   ],
   "source": [
    "names = []\n",
    "for i in b.index:\n",
    "    names.append(b.loc[i][' first_name'][1:] + \" \" + b.loc[i]['last_name'])\n",
    "b['Name'] = names\n",
    "d = []\n",
    "for i in a.index:\n",
    "    if a.loc[i]['Name'] not in names:\n",
    "        d.append(i)\n",
    "a = a.drop(d).reset_index(drop = True)\n",
    "a = a.drop(261)\n",
    "a = a[['Name', 'BABIP']].set_index('Name')\n",
    "b = b[['Name', 'avg_hit_speed']].set_index('Name')\n",
    "total = a.join(b)\n",
    "total"
   ]
  },
  {
   "cell_type": "markdown",
   "metadata": {},
   "source": [
    "# Linear Regression Plotting"
   ]
  },
  {
   "cell_type": "code",
   "execution_count": 8,
   "metadata": {},
   "outputs": [
    {
     "data": {
      "text/plain": [
       "Text(0, 0.5, 'BABIP')"
      ]
     },
     "execution_count": 8,
     "metadata": {},
     "output_type": "execute_result"
    },
    {
     "data": {
      "image/png": "[encoded data removed]",
      "text/plain": [
       "<Figure size 432x288 with 1 Axes>"
      ]
     },
     "metadata": {
      "needs_background": "light"
     },
     "output_type": "display_data"
    }
   ],
   "source": [
    "reg = LinearRegression().fit(np.array(total['avg_hit_speed']).reshape((-1,1)), np.array(total['BABIP']).reshape((-1,1)))\n",
    "p = reg.predict(np.array(total['avg_hit_speed']).reshape((-1,1)))\n",
    "plt.plot(total['avg_hit_speed'],total['BABIP'], 'go')\n",
    "plt.plot(total['avg_hit_speed'], p)\n",
    "plt.xlabel(\"Exit Velocity (mph)\")\n",
    "plt.ylabel(\"BABIP\")"
   ]
  },
  {
   "cell_type": "code",
   "execution_count": null,
   "metadata": {},
   "outputs": [],
   "source": []
  }
 ],
 "metadata": {
  "kernelspec": {
   "display_name": "Python 3",
   "language": "python",
   "name": "python3"
  },
  "language_info": {
   "codemirror_mode": {
    "name": "ipython",
    "version": 3
   },
   "file_extension": ".py",
   "mimetype": "text/x-python",
   "name": "python",
   "nbconvert_exporter": "python",
   "pygments_lexer": "ipython3",
   "version": "3.8.3"
  }
 },
 "nbformat": 4,
 "nbformat_minor": 4
}
